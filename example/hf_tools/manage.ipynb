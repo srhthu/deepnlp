{
 "cells": [
  {
   "cell_type": "markdown",
   "metadata": {},
   "source": [
    "# Manage Next HF Caches"
   ]
  },
  {
   "cell_type": "code",
   "execution_count": 60,
   "metadata": {},
   "outputs": [],
   "source": [
    "import os\n",
    "# Set hf_cache path\n",
    "os.environ['HF_HOME'] = '/next_share/hf_cache'\n",
    "from huggingface_hub import HfApi, scan_cache_dir, try_to_load_from_cache\n",
    "from transformers import AutoConfig\n",
    "import json\n",
    "import importlib\n",
    "\n",
    "import utilities\n",
    "importlib.reload(utilities)\n",
    "from utilities import cvt_cache_info"
   ]
  },
  {
   "cell_type": "code",
   "execution_count": 62,
   "metadata": {},
   "outputs": [
    {
     "name": "stdout",
     "output_type": "stream",
     "text": [
      "{\n",
      "    \"size_on_disk\": 299875052733,\n",
      "    \"repos\": [\n",
      "        {\n",
      "            \"repo_id\": \"bert-base-uncased\",\n",
      "            \"repo_type\": \"model\",\n",
      "            \"repo_path\": \"/ssd4/hf_cache/hub/models--bert-base-uncased\",\n",
      "            \"size_on_disk\": 3454102158,\n",
      "            \"nb_files\": 16,\n",
      "            \"revisions\": [\n",
      "                {\n",
      "                    \"commit_hash\": \"86b5e0934494bd15c9632b12f734a8a67f723594\",\n",
      "                    \"snapshot_path\": \"/ssd4/hf_cache/hub/models--bert-base-uncased/snapshots/86b5e0934494bd15c9632b12f734a8a67f723594\",\n",
      "                    \"size_on_disk\": 3454102158,\n",
      "                    \"files\": 16,\n",
      "                    \"refs\": [\n",
      "                        \"main\"\n",
      "                    ],\n",
      "                    \"last_modified\": 1710158238.069546\n",
      "                }\n",
      "            ],\n",
      "            \"last_accessed\": 1710158211.348558,\n",
      "            \"last_modified\": 1710158238.069546\n",
      "        },\n",
      "        {\n",
      "            \"repo_id\": \"mistralai/Mistral-7B-Instruct-v0.1\",\n",
      "            \"repo_type\": \"model\",\n",
      "            \"repo_path\": \"/ssd4/hf_cache/hub/models--mistralai--Mistral-7B-Instruct-v0.1\",\n",
      "            \"size_on_disk\": 571,\n",
      "            \"nb_files\": 1,\n",
      "            \"revisions\": [\n",
      "                {\n",
      "                    \"commit_hash\": \"73068f3702d050a2fd5aa2ca1e612e5036429398\",\n",
      "                    \"snapshot_path\": \"/ssd4/hf_cache/hub/models--mistralai--Mistral-7B-Instruct-v0.1/snapshots/73068f3702d050a2fd5aa2ca1e612e5036429398\",\n",
      "                    \"size_on_disk\": 571,\n",
      "                    \"files\": 1,\n",
      "                    \"refs\": [\n",
      "                        \"main\"\n",
      "                    ],\n",
      "                    \"last_modified\": 1714053184.1233258\n",
      "                }\n",
      "            ],\n",
      "            \"last_accessed\": 1714053184.5993385,\n",
      "            \"last_modified\": 1714053184.1233258\n",
      "        },\n",
      "        {\n",
      "            \"repo_id\": \"meta-llama/Meta-Llama-3-8B\",\n",
      "            \"repo_type\": \"model\",\n",
      "            \"repo_path\": \"/ssd4/hf_cache/hub/models--meta-llama--Meta-Llama-3-8B\",\n",
      "            \"size_on_disk\": 32141705441,\n",
      "            \"nb_files\": 20,\n",
      "            \"revisions\": [\n",
      "                {\n",
      "                    \"commit_hash\": \"62bd457b6fe961a42a631306577e622c83876cb6\",\n",
      "                    \"snapshot_path\": \"/ssd4/hf_cache/hub/models--meta-llama--Meta-Llama-3-8B/snapshots/62bd457b6fe961a42a631306577e622c83876cb6\",\n",
      "                    \"size_on_disk\": 16069717494,\n",
      "                    \"files\": 10,\n",
      "                    \"refs\": [\n",
      "                        \"main\"\n",
      "                    ],\n",
      "                    \"last_modified\": 1715256425.9406452\n",
      "                },\n",
      "                {\n",
      "                    \"commit_hash\": \"1460c22666392e470910ce3d44ffeb2ab7dbd4df\",\n",
      "                    \"snapshot_path\": \"/ssd4/hf_cache/hub/models--meta-llama--Meta-Llama-3-8B/snapshots/1460c22666392e470910ce3d44ffeb2ab7dbd4df\",\n",
      "                    \"size_on_disk\": 16069717494,\n",
      "                    \"files\": 10,\n",
      "                    \"refs\": [],\n",
      "                    \"last_modified\": 1715256425.9406452\n",
      "                },\n",
      "                {\n",
      "                    \"commit_hash\": \"b6887ce03ea47d068bf8502ba6ed27f8c5c12a6b\",\n",
      "                    \"snapshot_path\": \"/ssd4/hf_cache/hub/models--meta-llama--Meta-Llama-3-8B/snapshots/b6887ce03ea47d068bf8502ba6ed27f8c5c12a6b\",\n",
      "                    \"size_on_disk\": 32132569000,\n",
      "                    \"files\": 17,\n",
      "                    \"refs\": [],\n",
      "                    \"last_modified\": 1713510652.8042088\n",
      "                }\n",
      "            ],\n",
      "            \"last_accessed\": 1741351181.2940676,\n",
      "            \"last_modified\": 1715256425.9406452\n",
      "        },\n",
      "        {\n",
      "            \"repo_id\": \"meta-llama/Llama-2-13b-chat-hf\",\n",
      "            \"repo_type\": \"model\",\n",
      "            \"repo_path\": \"/ssd4/hf_cache/hub/models--meta-llama--Llama-2-13b-chat-hf\",\n",
      "            \"size_on_disk\": 52067356840,\n",
      "            \"nb_files\": 19,\n",
      "            \"revisions\": [\n",
      "                {\n",
      "                    \"commit_hash\": \"c2f3ec81aac798ae26dcc57799a994dfbf521496\",\n",
      "                    \"snapshot_path\": \"/ssd4/hf_cache/hub/models--meta-llama--Llama-2-13b-chat-hf/snapshots/c2f3ec81aac798ae26dcc57799a994dfbf521496\",\n",
      "                    \"size_on_disk\": 52067356840,\n",
      "                    \"files\": 19,\n",
      "                    \"refs\": [\n",
      "                        \"main\"\n",
      "                    ],\n",
      "                    \"last_modified\": 1710151326.769547\n",
      "                }\n",
      "            ],\n",
      "            \"last_accessed\": 1710150880.529823,\n",
      "            \"last_modified\": 1710151326.769547\n",
      "        },\n",
      "        {\n",
      "            \"repo_id\": \"meta-llama/Llama-2-13b-hf\",\n",
      "            \"repo_type\": \"model\",\n",
      "            \"repo_path\": \"/ssd4/hf_cache/hub/models--meta-llama--Llama-2-13b-hf\",\n",
      "            \"size_on_disk\": 52067350352,\n",
      "            \"nb_files\": 19,\n",
      "            \"revisions\": [\n",
      "                {\n",
      "                    \"commit_hash\": \"dc1d3b3bfdb69df26f8fc966c16353274b138c55\",\n",
      "                    \"snapshot_path\": \"/ssd4/hf_cache/hub/models--meta-llama--Llama-2-13b-hf/snapshots/dc1d3b3bfdb69df26f8fc966c16353274b138c55\",\n",
      "                    \"size_on_disk\": 52067350352,\n",
      "                    \"files\": 19,\n",
      "                    \"refs\": [\n",
      "                        \"main\"\n",
      "                    ],\n",
      "                    \"last_modified\": 1710150877.1337335\n",
      "                }\n",
      "            ],\n",
      "            \"last_accessed\": 1710160132.407757,\n",
      "            \"last_modified\": 1710150877.1337335\n",
      "        },\n",
      "        {\n",
      "            \"repo_id\": \"google/flan-t5-xl\",\n",
      "            \"repo_type\": \"model\",\n",
      "            \"repo_path\": \"/ssd4/hf_cache/hub/models--google--flan-t5-xl\",\n",
      "            \"size_on_disk\": 11402372661,\n",
      "            \"nb_files\": 9,\n",
      "            \"revisions\": [\n",
      "                {\n",
      "                    \"commit_hash\": \"7d6315df2c2fb742f0f5b556879d730926ca9001\",\n",
      "                    \"snapshot_path\": \"/ssd4/hf_cache/hub/models--google--flan-t5-xl/snapshots/7d6315df2c2fb742f0f5b556879d730926ca9001\",\n",
      "                    \"size_on_disk\": 11402372661,\n",
      "                    \"files\": 9,\n",
      "                    \"refs\": [\n",
      "                        \"main\"\n",
      "                    ],\n",
      "                    \"last_modified\": 1717617264.2642636\n",
      "                }\n",
      "            ],\n",
      "            \"last_accessed\": 1717617300.6331336,\n",
      "            \"last_modified\": 1717617264.2642636\n",
      "        },\n",
      "        {\n",
      "            \"repo_id\": \"Qwen/Qwen2.5-1.5B-Instruct\",\n",
      "            \"repo_type\": \"model\",\n",
      "            \"repo_path\": \"/ssd4/hf_cache/hub/models--Qwen--Qwen2.5-1.5B-Instruct\",\n",
      "            \"size_on_disk\": 11487622,\n",
      "            \"nb_files\": 4,\n",
      "            \"revisions\": [\n",
      "                {\n",
      "                    \"commit_hash\": \"989aa7980e4cf806f80c7fef2b1adb7bc71aa306\",\n",
      "                    \"snapshot_path\": \"/ssd4/hf_cache/hub/models--Qwen--Qwen2.5-1.5B-Instruct/snapshots/989aa7980e4cf806f80c7fef2b1adb7bc71aa306\",\n",
      "                    \"size_on_disk\": 11487622,\n",
      "                    \"files\": 4,\n",
      "                    \"refs\": [\n",
      "                        \"main\"\n",
      "                    ],\n",
      "                    \"last_modified\": 1734205705.433071\n",
      "                }\n",
      "            ],\n",
      "            \"last_accessed\": 1734207102.2711926,\n",
      "            \"last_modified\": 1734205705.433071\n",
      "        },\n",
      "        {\n",
      "            \"repo_id\": \"mistralai/Mistral-7B-v0.1\",\n",
      "            \"repo_type\": \"model\",\n",
      "            \"repo_path\": \"/ssd4/hf_cache/hub/models--mistralai--Mistral-7B-v0.1\",\n",
      "            \"size_on_disk\": 29493692201,\n",
      "            \"nb_files\": 14,\n",
      "            \"revisions\": [\n",
      "                {\n",
      "                    \"commit_hash\": \"26bca36bde8333b5d7f72e9ed20ccda6a618af24\",\n",
      "                    \"snapshot_path\": \"/ssd4/hf_cache/hub/models--mistralai--Mistral-7B-v0.1/snapshots/26bca36bde8333b5d7f72e9ed20ccda6a618af24\",\n",
      "                    \"size_on_disk\": 29493692201,\n",
      "                    \"files\": 14,\n",
      "                    \"refs\": [\n",
      "                        \"main\"\n",
      "                    ],\n",
      "                    \"last_modified\": 1710151590.0404263\n",
      "                }\n",
      "            ],\n",
      "            \"last_accessed\": 1715775685.6220915,\n",
      "            \"last_modified\": 1710151590.0404263\n",
      "        },\n",
      "        {\n",
      "            \"repo_id\": \"meta-llama/Meta-Llama-3-8B-Instruct\",\n",
      "            \"repo_type\": \"model\",\n",
      "            \"repo_path\": \"/ssd4/hf_cache/hub/models--meta-llama--Meta-Llama-3-8B-Instruct\",\n",
      "            \"size_on_disk\": 32141708243,\n",
      "            \"nb_files\": 21,\n",
      "            \"revisions\": [\n",
      "                {\n",
      "                    \"commit_hash\": \"e1945c40cd546c78e41f1151f4db032b271faeaa\",\n",
      "                    \"snapshot_path\": \"/ssd4/hf_cache/hub/models--meta-llama--Meta-Llama-3-8B-Instruct/snapshots/e1945c40cd546c78e41f1151f4db032b271faeaa\",\n",
      "                    \"size_on_disk\": 16069717915,\n",
      "                    \"files\": 10,\n",
      "                    \"refs\": [\n",
      "                        \"main\"\n",
      "                    ],\n",
      "                    \"last_modified\": 1718293074.3426647\n",
      "                },\n",
      "                {\n",
      "                    \"commit_hash\": \"d3aa29f914761e8ea0298051fbaf8dd173e94db5\",\n",
      "                    \"snapshot_path\": \"/ssd4/hf_cache/hub/models--meta-llama--Meta-Llama-3-8B-Instruct/snapshots/d3aa29f914761e8ea0298051fbaf8dd173e94db5\",\n",
      "                    \"size_on_disk\": 32132570727,\n",
      "                    \"files\": 17,\n",
      "                    \"refs\": [],\n",
      "                    \"last_modified\": 1713511187.1469972\n",
      "                }\n",
      "            ],\n",
      "            \"last_accessed\": 1740558419.3649647,\n",
      "            \"last_modified\": 1718293074.3426647\n",
      "        },\n",
      "        {\n",
      "            \"repo_id\": \"gpt2\",\n",
      "            \"repo_type\": \"model\",\n",
      "            \"repo_path\": \"/ssd4/hf_cache/hub/models--gpt2\",\n",
      "            \"size_on_disk\": 550959861,\n",
      "            \"nb_files\": 7,\n",
      "            \"revisions\": [\n",
      "                {\n",
      "                    \"commit_hash\": \"607a30d783dfa663caf39e06633721c8d4cfcd7e\",\n",
      "                    \"snapshot_path\": \"/ssd4/hf_cache/hub/models--gpt2/snapshots/607a30d783dfa663caf39e06633721c8d4cfcd7e\",\n",
      "                    \"size_on_disk\": 550959861,\n",
      "                    \"files\": 7,\n",
      "                    \"refs\": [\n",
      "                        \"main\"\n",
      "                    ],\n",
      "                    \"last_modified\": 1720510950.9332607\n",
      "                }\n",
      "            ],\n",
      "            \"last_accessed\": 1720511060.1037982,\n",
      "            \"last_modified\": 1720510950.9332607\n",
      "        },\n",
      "        {\n",
      "            \"repo_id\": \"mistralai/Mistral-7B-Instruct-v0.2\",\n",
      "            \"repo_type\": \"model\",\n",
      "            \"repo_path\": \"/ssd4/hf_cache/hub/models--mistralai--Mistral-7B-Instruct-v0.2\",\n",
      "            \"size_on_disk\": 29493695281,\n",
      "            \"nb_files\": 16,\n",
      "            \"revisions\": [\n",
      "                {\n",
      "                    \"commit_hash\": \"cf47bb3e18fe41a5351bc36eef76e9c900847c89\",\n",
      "                    \"snapshot_path\": \"/ssd4/hf_cache/hub/models--mistralai--Mistral-7B-Instruct-v0.2/snapshots/cf47bb3e18fe41a5351bc36eef76e9c900847c89\",\n",
      "                    \"size_on_disk\": 29493695281,\n",
      "                    \"files\": 16,\n",
      "                    \"refs\": [],\n",
      "                    \"last_modified\": 1710151844.8030696\n",
      "                },\n",
      "                {\n",
      "                    \"commit_hash\": \"41b61a33a2483885c981aa79e0df6b32407ed873\",\n",
      "                    \"snapshot_path\": \"/ssd4/hf_cache/hub/models--mistralai--Mistral-7B-Instruct-v0.2/snapshots/41b61a33a2483885c981aa79e0df6b32407ed873\",\n",
      "                    \"size_on_disk\": 14485814126,\n",
      "                    \"files\": 10,\n",
      "                    \"refs\": [\n",
      "                        \"main\"\n",
      "                    ],\n",
      "                    \"last_modified\": 1710151841.1109734\n",
      "                }\n",
      "            ],\n",
      "            \"last_accessed\": 1715676831.8354983,\n",
      "            \"last_modified\": 1710151844.8030696\n",
      "        },\n",
      "        {\n",
      "            \"repo_id\": \"google/t5-v1_1-large\",\n",
      "            \"repo_type\": \"model\",\n",
      "            \"repo_path\": \"/ssd4/hf_cache/hub/models--google--t5-v1_1-large\",\n",
      "            \"size_on_disk\": 3133654306,\n",
      "            \"nb_files\": 6,\n",
      "            \"revisions\": [\n",
      "                {\n",
      "                    \"commit_hash\": \"a98b0fcd0b8137ded40cdf0c0cf0ee884e7c9726\",\n",
      "                    \"snapshot_path\": \"/ssd4/hf_cache/hub/models--google--t5-v1_1-large/snapshots/a98b0fcd0b8137ded40cdf0c0cf0ee884e7c9726\",\n",
      "                    \"size_on_disk\": 3133654306,\n",
      "                    \"files\": 6,\n",
      "                    \"refs\": [\n",
      "                        \"main\"\n",
      "                    ],\n",
      "                    \"last_modified\": 1715678325.6145303\n",
      "                }\n",
      "            ],\n",
      "            \"last_accessed\": 1716372009.435716,\n",
      "            \"last_modified\": 1715678325.6145303\n",
      "        },\n",
      "        {\n",
      "            \"repo_id\": \"google/flan-t5-large\",\n",
      "            \"repo_type\": \"model\",\n",
      "            \"repo_path\": \"/ssd4/hf_cache/hub/models--google--flan-t5-large\",\n",
      "            \"size_on_disk\": 3220460,\n",
      "            \"nb_files\": 4,\n",
      "            \"revisions\": [\n",
      "                {\n",
      "                    \"commit_hash\": \"0613663d0d48ea86ba8cb3d7a44f0f65dc596a2a\",\n",
      "                    \"snapshot_path\": \"/ssd4/hf_cache/hub/models--google--flan-t5-large/snapshots/0613663d0d48ea86ba8cb3d7a44f0f65dc596a2a\",\n",
      "                    \"size_on_disk\": 3220460,\n",
      "                    \"files\": 4,\n",
      "                    \"refs\": [\n",
      "                        \"main\"\n",
      "                    ],\n",
      "                    \"last_modified\": 1716282793.2546456\n",
      "                }\n",
      "            ],\n",
      "            \"last_accessed\": 1716372099.3820806,\n",
      "            \"last_modified\": 1716282793.2546456\n",
      "        },\n",
      "        {\n",
      "            \"repo_id\": \"meta-llama/Llama-2-7b-chat-hf\",\n",
      "            \"repo_type\": \"model\",\n",
      "            \"repo_path\": \"/ssd4/hf_cache/hub/models--meta-llama--Llama-2-7b-chat-hf\",\n",
      "            \"size_on_disk\": 26956245320,\n",
      "            \"nb_files\": 16,\n",
      "            \"revisions\": [\n",
      "                {\n",
      "                    \"commit_hash\": \"09bd0f49e16738cdfaa6e615203e126038736eb0\",\n",
      "                    \"snapshot_path\": \"/ssd4/hf_cache/hub/models--meta-llama--Llama-2-7b-chat-hf/snapshots/09bd0f49e16738cdfaa6e615203e126038736eb0\",\n",
      "                    \"size_on_disk\": 26956245320,\n",
      "                    \"files\": 16,\n",
      "                    \"refs\": [\n",
      "                        \"main\"\n",
      "                    ],\n",
      "                    \"last_modified\": 1710150427.2497363\n",
      "                }\n",
      "            ],\n",
      "            \"last_accessed\": 1710150187.0991838,\n",
      "            \"last_modified\": 1710150427.2497363\n",
      "        },\n",
      "        {\n",
      "            \"repo_id\": \"meta-llama/Llama-2-7b-hf\",\n",
      "            \"repo_type\": \"model\",\n",
      "            \"repo_path\": \"/ssd4/hf_cache/hub/models--meta-llama--Llama-2-7b-hf\",\n",
      "            \"size_on_disk\": 26957501416,\n",
      "            \"nb_files\": 17,\n",
      "            \"revisions\": [\n",
      "                {\n",
      "                    \"commit_hash\": \"8cca527612d856d7d32bd94f8103728d614eb852\",\n",
      "                    \"snapshot_path\": \"/ssd4/hf_cache/hub/models--meta-llama--Llama-2-7b-hf/snapshots/8cca527612d856d7d32bd94f8103728d614eb852\",\n",
      "                    \"size_on_disk\": 26957501416,\n",
      "                    \"files\": 17,\n",
      "                    \"refs\": [\n",
      "                        \"main\"\n",
      "                    ],\n",
      "                    \"last_modified\": 1710150182.6310604\n",
      "                }\n",
      "            ],\n",
      "            \"last_accessed\": 1734348456.4963534,\n",
      "            \"last_modified\": 1710150182.6310604\n",
      "        }\n",
      "    ]\n",
      "}\n"
     ]
    }
   ],
   "source": [
    "cache_dt = cvt_cache_info(cache_info)\n",
    "# cache_dt\n",
    "print(json.dumps(cache_dt, indent = 4))"
   ]
  },
  {
   "cell_type": "code",
   "execution_count": 68,
   "metadata": {},
   "outputs": [
    {
     "data": {
      "text/plain": [
       "['bert-base-uncased',\n",
       " 'mistralai/Mistral-7B-Instruct-v0.1',\n",
       " 'meta-llama/Meta-Llama-3-8B',\n",
       " 'meta-llama/Llama-2-13b-chat-hf',\n",
       " 'meta-llama/Llama-2-13b-hf',\n",
       " 'google/flan-t5-xl',\n",
       " 'Qwen/Qwen2.5-1.5B-Instruct',\n",
       " 'mistralai/Mistral-7B-v0.1',\n",
       " 'meta-llama/Meta-Llama-3-8B-Instruct',\n",
       " 'gpt2',\n",
       " 'mistralai/Mistral-7B-Instruct-v0.2',\n",
       " 'google/t5-v1_1-large',\n",
       " 'google/flan-t5-large',\n",
       " 'meta-llama/Llama-2-7b-chat-hf',\n",
       " 'meta-llama/Llama-2-7b-hf']"
      ]
     },
     "execution_count": 68,
     "metadata": {},
     "output_type": "execute_result"
    }
   ],
   "source": [
    "[k['repo_id'] for k in cache_dt['repos']]"
   ]
  },
  {
   "cell_type": "code",
   "execution_count": 67,
   "metadata": {},
   "outputs": [
    {
     "data": {
      "text/plain": [
       "'/ssd4/hf_cache/hub/models--bert-base-uncased'"
      ]
     },
     "execution_count": 67,
     "metadata": {},
     "output_type": "execute_result"
    }
   ],
   "source": [
    "cache_dt['repos'][0]['repo_path']"
   ]
  },
  {
   "cell_type": "code",
   "execution_count": 64,
   "metadata": {},
   "outputs": [
    {
     "data": {
      "text/plain": [
       "LlamaConfig {\n",
       "  \"_name_or_path\": \"meta-llama/Meta-Llama-3-8B\",\n",
       "  \"architectures\": [\n",
       "    \"LlamaForCausalLM\"\n",
       "  ],\n",
       "  \"attention_bias\": false,\n",
       "  \"attention_dropout\": 0.0,\n",
       "  \"bos_token_id\": 128000,\n",
       "  \"eos_token_id\": 128001,\n",
       "  \"hidden_act\": \"silu\",\n",
       "  \"hidden_size\": 4096,\n",
       "  \"initializer_range\": 0.02,\n",
       "  \"intermediate_size\": 14336,\n",
       "  \"max_position_embeddings\": 8192,\n",
       "  \"model_type\": \"llama\",\n",
       "  \"num_attention_heads\": 32,\n",
       "  \"num_hidden_layers\": 32,\n",
       "  \"num_key_value_heads\": 8,\n",
       "  \"pretraining_tp\": 1,\n",
       "  \"rms_norm_eps\": 1e-05,\n",
       "  \"rope_scaling\": null,\n",
       "  \"rope_theta\": 500000.0,\n",
       "  \"tie_word_embeddings\": false,\n",
       "  \"torch_dtype\": \"bfloat16\",\n",
       "  \"transformers_version\": \"4.39.0\",\n",
       "  \"use_cache\": true,\n",
       "  \"vocab_size\": 128256\n",
       "}"
      ]
     },
     "execution_count": 64,
     "metadata": {},
     "output_type": "execute_result"
    }
   ],
   "source": [
    "AutoConfig.from_pretrained(\"meta-llama/Meta-Llama-3-8B\")"
   ]
  },
  {
   "cell_type": "code",
   "execution_count": 3,
   "metadata": {},
   "outputs": [],
   "source": [
    "cache_info = scan_cache_dir()"
   ]
  },
  {
   "cell_type": "code",
   "execution_count": 4,
   "metadata": {},
   "outputs": [
    {
     "name": "stdout",
     "output_type": "stream",
     "text": [
      "['__annotations__', '__class__', '__dataclass_fields__', '__dataclass_params__', '__delattr__', '__dict__', '__dir__', '__doc__', '__eq__', '__format__', '__ge__', '__getattribute__', '__gt__', '__hash__', '__init__', '__init_subclass__', '__le__', '__lt__', '__module__', '__ne__', '__new__', '__reduce__', '__reduce_ex__', '__repr__', '__setattr__', '__sizeof__', '__str__', '__subclasshook__', '__weakref__', 'delete_revisions', 'repos', 'size_on_disk', 'size_on_disk_str', 'warnings']\n"
     ]
    }
   ],
   "source": [
    "print(dir(cache_info))"
   ]
  },
  {
   "cell_type": "code",
   "execution_count": 5,
   "metadata": {},
   "outputs": [
    {
     "data": {
      "text/plain": [
       "299.875052733"
      ]
     },
     "execution_count": 5,
     "metadata": {},
     "output_type": "execute_result"
    }
   ],
   "source": [
    "cache_info.size_on_disk / 1000**3"
   ]
  },
  {
   "cell_type": "code",
   "execution_count": 10,
   "metadata": {},
   "outputs": [
    {
     "name": "stdout",
     "output_type": "stream",
     "text": [
      "['__annotations__', '__class__', '__dataclass_fields__', '__dataclass_params__', '__delattr__', '__dict__', '__dir__', '__doc__', '__eq__', '__format__', '__ge__', '__getattribute__', '__gt__', '__hash__', '__init__', '__init_subclass__', '__le__', '__lt__', '__module__', '__ne__', '__new__', '__reduce__', '__reduce_ex__', '__repr__', '__setattr__', '__sizeof__', '__str__', '__subclasshook__', '__weakref__', 'last_accessed', 'last_accessed_str', 'last_modified', 'last_modified_str', 'nb_files', 'refs', 'repo_id', 'repo_path', 'repo_type', 'revisions', 'size_on_disk', 'size_on_disk_str']\n"
     ]
    }
   ],
   "source": [
    "repo_info = list(cache_info.repos)[0]\n",
    "print(dir(repo_info))"
   ]
  },
  {
   "cell_type": "code",
   "execution_count": 29,
   "metadata": {},
   "outputs": [
    {
     "name": "stdout",
     "output_type": "stream",
     "text": [
      "repo_id: bert-base-uncased\n",
      "repo_type: model\n",
      "repo_path: /ssd4/hf_cache/hub/models--bert-base-uncased\n",
      "size_on_disk: 3454102158\n",
      "nb_files: 16\n",
      "last_accessed: 1710158211.348558\n",
      "last_modified: 1710158238.069546\n",
      "refs: dict_keys(['main'])\n"
     ]
    }
   ],
   "source": [
    "kv = [(k,v) for k,v in repo_info.__dict__.items() if not (k.startswith('_') or k in ['refs', 'revisions'])]\n",
    "for k,v in kv:\n",
    "    print(f'{k}: {v}')\n",
    "print(f'refs: {repo_info.refs.keys()}')"
   ]
  },
  {
   "cell_type": "code",
   "execution_count": 31,
   "metadata": {},
   "outputs": [
    {
     "name": "stdout",
     "output_type": "stream",
     "text": [
      "1\n",
      "<class 'list'>\n"
     ]
    }
   ],
   "source": [
    "rev_list = list(repo_info.revisions)\n",
    "print(len(rev_list))\n",
    "print(type(rev_list))"
   ]
  },
  {
   "cell_type": "code",
   "execution_count": 33,
   "metadata": {},
   "outputs": [
    {
     "name": "stdout",
     "output_type": "stream",
     "text": [
      "['__annotations__', '__class__', '__dataclass_fields__', '__dataclass_params__', '__delattr__', '__dict__', '__dir__', '__doc__', '__eq__', '__format__', '__ge__', '__getattribute__', '__gt__', '__hash__', '__init__', '__init_subclass__', '__le__', '__lt__', '__module__', '__ne__', '__new__', '__reduce__', '__reduce_ex__', '__repr__', '__setattr__', '__sizeof__', '__str__', '__subclasshook__', '__weakref__', 'commit_hash', 'files', 'last_modified', 'last_modified_str', 'nb_files', 'refs', 'size_on_disk', 'size_on_disk_str', 'snapshot_path']\n"
     ]
    }
   ],
   "source": [
    "ref_info = list(repo_info.revisions)[0]\n",
    "print(dir(ref_info))"
   ]
  },
  {
   "cell_type": "code",
   "execution_count": 37,
   "metadata": {},
   "outputs": [
    {
     "name": "stdout",
     "output_type": "stream",
     "text": [
      "commit_hash: 86b5e0934494bd15c9632b12f734a8a67f723594\n",
      "snapshot_path: /ssd4/hf_cache/hub/models--bert-base-uncased/snapshots/86b5e0934494bd15c9632b12f734a8a67f723594\n",
      "size_on_disk: 3454102158\n",
      "refs: frozenset({'main'})\n",
      "last_modified: 1710158238.069546\n",
      "files: 16\n"
     ]
    }
   ],
   "source": [
    "kv = [(k,v) for k,v in ref_info.__dict__.items() if not (k.startswith('_') or k in ['files',])]\n",
    "for k,v in kv:\n",
    "    print(f'{k}: {v}')\n",
    "print(f'files: {len(ref_info.files)}')"
   ]
  },
  {
   "cell_type": "code",
   "execution_count": 41,
   "metadata": {},
   "outputs": [
    {
     "data": {
      "text/plain": [
       "frozenset({'main'})"
      ]
     },
     "execution_count": 41,
     "metadata": {},
     "output_type": "execute_result"
    }
   ],
   "source": [
    "list(repo_info.revisions)[0].refs"
   ]
  },
  {
   "cell_type": "code",
   "execution_count": null,
   "metadata": {},
   "outputs": [],
   "source": []
  }
 ],
 "metadata": {
  "kernelspec": {
   "display_name": "llm",
   "language": "python",
   "name": "python3"
  },
  "language_info": {
   "codemirror_mode": {
    "name": "ipython",
    "version": 3
   },
   "file_extension": ".py",
   "mimetype": "text/x-python",
   "name": "python",
   "nbconvert_exporter": "python",
   "pygments_lexer": "ipython3",
   "version": "3.9.16"
  }
 },
 "nbformat": 4,
 "nbformat_minor": 2
}
