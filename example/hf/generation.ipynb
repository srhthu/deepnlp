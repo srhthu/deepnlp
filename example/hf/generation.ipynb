{
 "cells": [
  {
   "cell_type": "markdown",
   "metadata": {},
   "source": [
    "# Introduction\n",
    "\n",
    "This scripts show how to generate with huggingface generate and vllm"
   ]
  },
  {
   "cell_type": "code",
   "execution_count": 1,
   "metadata": {},
   "outputs": [],
   "source": [
    "import os\n",
    "os.environ['CUDA_VISIBLE_DEVICES'] = '0,1'\n",
    "os.environ['HF_HUB_CACHE'] = '/next_share/hf_cache/hub'\n",
    "\n",
    "import torch\n",
    "from tqdm import tqdm\n",
    "from transformers import AutoModelForCausalLM, GenerationMixin, T5ForConditionalGeneration\n",
    "from vllm import LLM, SamplingParams"
   ]
  },
  {
   "cell_type": "markdown",
   "metadata": {},
   "source": [
    "## Generate with VLLM"
   ]
  },
  {
   "cell_type": "code",
   "execution_count": 2,
   "metadata": {},
   "outputs": [
    {
     "name": "stdout",
     "output_type": "stream",
     "text": [
      "INFO 05-21 17:30:34 llm_engine.py:100] Initializing an LLM engine (v0.4.2) with config: model='meta-llama/Meta-Llama-3-8B', speculative_config=None, tokenizer='meta-llama/Meta-Llama-3-8B', skip_tokenizer_init=False, tokenizer_mode=auto, revision=None, tokenizer_revision=None, trust_remote_code=False, dtype=torch.bfloat16, max_seq_len=8192, download_dir=None, load_format=LoadFormat.AUTO, tensor_parallel_size=1, disable_custom_all_reduce=False, quantization=None, enforce_eager=False, kv_cache_dtype=auto, quantization_param_path=None, device_config=cuda, decoding_config=DecodingConfig(guided_decoding_backend='outlines'), seed=0, served_model_name=meta-llama/Meta-Llama-3-8B)\n"
     ]
    },
    {
     "name": "stderr",
     "output_type": "stream",
     "text": [
      "Special tokens have been added in the vocabulary, make sure the associated word embeddings are fine-tuned or trained.\n"
     ]
    },
    {
     "name": "stdout",
     "output_type": "stream",
     "text": [
      "INFO 05-21 17:30:36 utils.py:660] Found nccl from library /storage/rhshui/.config/vllm/nccl/cu12/libnccl.so.2.18.1\n",
      "INFO 05-21 17:30:36 selector.py:27] Using FlashAttention-2 backend.\n",
      "INFO 05-21 17:30:38 weight_utils.py:199] Using model weights format ['*.safetensors']\n",
      "INFO 05-21 17:31:22 model_runner.py:175] Loading model weights took 14.9595 GB\n",
      "INFO 05-21 17:31:24 gpu_executor.py:114] # GPU blocks: 2259, # CPU blocks: 2048\n",
      "INFO 05-21 17:31:27 model_runner.py:937] Capturing the model for CUDA graphs. This may lead to unexpected consequences if the model is not static. To run the model in eager mode, set 'enforce_eager=True' or use '--enforce-eager' in the CLI.\n",
      "INFO 05-21 17:31:27 model_runner.py:941] CUDA graphs can take additional 1~3 GiB memory per GPU. If you are running out of memory, consider decreasing `gpu_memory_utilization` or enforcing eager mode. You can also reduce the `max_num_seqs` as needed to decrease memory usage.\n",
      "INFO 05-21 17:31:31 model_runner.py:1017] Graph capturing finished in 4 secs.\n"
     ]
    }
   ],
   "source": [
    "engine = LLM('meta-llama/Meta-Llama-3-8B')"
   ]
  },
  {
   "cell_type": "code",
   "execution_count": 3,
   "metadata": {},
   "outputs": [],
   "source": [
    "prompts = [\n",
    "    \"Hello, my name is\",\n",
    "    \"The president of the United States is\",\n",
    "    \"The capital of France is\",\n",
    "    \"The future of AI is\",\n",
    "]\n",
    "sampling_params = SamplingParams(temperature=0.0, top_p=0.95, max_tokens=300, ignore_eos=True)"
   ]
  },
  {
   "cell_type": "code",
   "execution_count": 5,
   "metadata": {},
   "outputs": [
    {
     "name": "stderr",
     "output_type": "stream",
     "text": [
      "100%|██████████| 4/4 [00:29<00:00,  7.33s/it]\n"
     ]
    }
   ],
   "source": [
    "outputs = [engine.generate(prompt, sampling_params, use_tqdm=False)[0] for prompt in tqdm(prompts)]\n",
    "# outputs = engine.generate(prompts, sampling_params)"
   ]
  },
  {
   "cell_type": "code",
   "execution_count": 6,
   "metadata": {},
   "outputs": [
    {
     "name": "stdout",
     "output_type": "stream",
     "text": [
      "Prompt: 'Hello, my name is', Generated text: \" and I'm writing you today to learn more about the 2019 Ford F-150 XL SuperCrew 4WD. I live at in , and I would like to hear back from you soon and learn more about the Ford F-150. Please call me at at your earliest convenience.://www.google.com/url?q=https://www.automaxx.com/used-vehicles/2019-ford-f-150-xl-supercrew-4wd-4x4-4wd-4x4-4wd-4x4-4wd-4x4-4wd-4x4-4wd-4x4-4wd-4x4-4wd-4x4-4wd-4x4-4wd-4x4-4wd-4x4-4wd-4x4-4wd-4x4-4wd-4x4-4wd-4x4-4wd-4x4-4wd-4x4-4wd-4x4-4wd-4x4-4wd-4x4-4wd-4x4-4wd-4x4-4wd-4x4-4wd-4x4-4wd-4x4-4wd-4x4-4wd-4x4-4wd-4x4-4wd-4x4-4wd-4\"\n",
      "Prompt: 'The president of the United States is', Generated text: ' the most powerful person in the world. He or she is the leader of the free world, the commander-in-chief of the armed forces, and the head of state of the United States. The president is also the chief executive officer of the federal government and the head of the executive branch of the government. The president is elected by the people of the United States every four years.\\nThe president of the United States is the most powerful person in the world. He or she is the leader of the free world, the commander-in-chief of the armed forces, and the head of state of the United States. The president is also the chief executive officer of the federal government and the head of the executive branch of the government. The president is elected by the people of the United States every four years.\\nThe president of the United States is the most powerful person in the world. He or she is the leader of the free world, the commander-in-chief of the armed forces, and the head of state of the United States. The president is also the chief executive officer of the federal government and the head of the executive branch of the government. The president is elected by the people of the United States every four years.\\nThe president of the United States is the most powerful person in the world. He or she is the leader of the free world, the commander-in-chief of the armed forces, and the head of state of the United States. The president is also the chief executive officer of the federal government and'\n",
      "Prompt: 'The capital of France is', Generated text: ' Paris, which is located in the north of the country. The city is located on the Seine River and is the largest city in France. Paris is a major tourist destination and is home to many famous landmarks, including the Eiffel Tower, the Louvre Museum, and the Notre Dame Cathedral. The city is also known for its fashion, food, and art.\\nThe capital of France is Paris, which is located in the north of the country. The city is located on the Seine River and is the largest city in France. Paris is a major tourist destination and is home to many famous landmarks, including the Eiffel Tower, the Louvre Museum, and the Notre Dame Cathedral. The city is also known for its fashion, food, and art.\\nThe capital of France is Paris, which is located in the north of the country. The city is located on the Seine River and is the largest city in France. Paris is a major tourist destination and is home to many famous landmarks, including the Eiffel Tower, the Louvre Museum, and the Notre Dame Cathedral. The city is also known for its fashion, food, and art.\\nThe capital of France is Paris, which is located in the north of the country. The city is located on the Seine River and is the largest city in France. Paris is a major tourist destination and is home to many famous landmarks, including the Eiffel Tower, the Louvre Museum, and the Notre Dame Cathedral'\n",
      "Prompt: 'The future of AI is', Generated text: ' here, and it’s already changing the way we live and work. From self-driving cars to virtual assistants, AI is becoming more and more integrated into our daily lives. But what does this mean for the future of work? In this blog post, we’ll explore the impact of AI on the future of work and how it will shape the way we work and live.\\nAI is already having a significant impact on the way we work. From automating repetitive tasks to providing insights and recommendations, AI is helping us to be more productive and efficient. For example, AI-powered chatbots are being used to answer customer queries, freeing up time for customer service representatives to focus on more complex issues. AI is also being used to automate routine tasks such as data entry and analysis, allowing employees to focus on more strategic tasks.\\nAI is also changing the way we collaborate. With the rise of virtual assistants and chatbots, we can now collaborate with colleagues and customers from anywhere in the world. This is especially useful for remote teams, as it allows them to stay connected and collaborate in real-time. AI is also being used to create virtual meeting spaces, allowing teams to collaborate in a more immersive and interactive way.\\nAI is also changing the way we learn. With the rise of AI-powered learning platforms, we can now access personalized learning experiences tailored to our individual needs. This is especially useful for those who are looking to upskill or reskill in order to stay ahead of the curve. AI is also being used'\n"
     ]
    }
   ],
   "source": [
    "for output in outputs:\n",
    "    prompt = output.prompt\n",
    "    generated_text = output.outputs[0].text\n",
    "    print(f\"Prompt: {prompt!r}, Generated text: {generated_text!r}\")"
   ]
  },
  {
   "cell_type": "code",
   "execution_count": 50,
   "metadata": {},
   "outputs": [
    {
     "data": {
      "text/plain": [
       "SamplingParams(n=1, best_of=1, presence_penalty=0.0, frequency_penalty=0.0, repetition_penalty=1.0, temperature=0.0, top_p=1.0, top_k=-1, min_p=0.0, seed=None, use_beam_search=False, length_penalty=1.0, early_stopping=False, stop=[], stop_token_ids=[], include_stop_str_in_output=False, ignore_eos=False, max_tokens=800, min_tokens=0, logprobs=None, prompt_logprobs=None, skip_special_tokens=True, spaces_between_special_tokens=True, truncate_prompt_tokens=None)"
      ]
     },
     "execution_count": 50,
     "metadata": {},
     "output_type": "execute_result"
    }
   ],
   "source": [
    "sampling_params"
   ]
  },
  {
   "cell_type": "code",
   "execution_count": 7,
   "metadata": {},
   "outputs": [
    {
     "name": "stdout",
     "output_type": "stream",
     "text": [
      "[300, 300, 300, 300]\n"
     ]
    }
   ],
   "source": [
    "print([len(output.outputs[0].token_ids) for output in outputs])"
   ]
  },
  {
   "cell_type": "markdown",
   "metadata": {},
   "source": [
    "## Generate with Transformers"
   ]
  },
  {
   "cell_type": "code",
   "execution_count": 8,
   "metadata": {},
   "outputs": [
    {
     "data": {
      "application/vnd.jupyter.widget-view+json": {
       "model_id": "36db459bd3a74e80a2aef2b45ada26f1",
       "version_major": 2,
       "version_minor": 0
      },
      "text/plain": [
       "Loading checkpoint shards:   0%|          | 0/4 [00:00<?, ?it/s]"
      ]
     },
     "metadata": {},
     "output_type": "display_data"
    }
   ],
   "source": [
    "model = AutoModelForCausalLM.from_pretrained('meta-llama/Meta-Llama-3-8B', torch_dtype = torch.bfloat16, device_map = 1)"
   ]
  },
  {
   "cell_type": "code",
   "execution_count": 9,
   "metadata": {},
   "outputs": [
    {
     "name": "stdout",
     "output_type": "stream",
     "text": [
      "<|end_of_text|>\n"
     ]
    }
   ],
   "source": [
    "tk = engine.get_tokenizer()\n",
    "print(tk.eos_token)\n",
    "tk.pad_token = tk.eos_token\n",
    "tk.padding_side = 'left'"
   ]
  },
  {
   "cell_type": "code",
   "execution_count": 10,
   "metadata": {},
   "outputs": [],
   "source": [
    "inputs = [tk(p, return_tensors='pt') for p in prompts]"
   ]
  },
  {
   "cell_type": "code",
   "execution_count": 11,
   "metadata": {},
   "outputs": [],
   "source": [
    "def to_cuda(kws, gpu=0):\n",
    "    return {k:v.cuda(gpu) for k,v in kws.items()}"
   ]
  },
  {
   "cell_type": "code",
   "execution_count": 12,
   "metadata": {},
   "outputs": [
    {
     "name": "stderr",
     "output_type": "stream",
     "text": [
      "  0%|          | 0/4 [00:00<?, ?it/s]/storage_fast/rhshui/lib/anaconda3/envs/llm2/lib/python3.9/site-packages/transformers/generation/configuration_utils.py:492: UserWarning: `do_sample` is set to `False`. However, `temperature` is set to `0.6` -- this flag is only used in sample-based generation modes. You should set `do_sample=True` or unset `temperature`.\n",
      "  warnings.warn(\n",
      "/storage_fast/rhshui/lib/anaconda3/envs/llm2/lib/python3.9/site-packages/transformers/generation/configuration_utils.py:497: UserWarning: `do_sample` is set to `False`. However, `top_p` is set to `0.9` -- this flag is only used in sample-based generation modes. You should set `do_sample=True` or unset `top_p`.\n",
      "  warnings.warn(\n",
      "100%|██████████| 4/4 [00:36<00:00,  9.24s/it]\n"
     ]
    }
   ],
   "source": [
    "all_outs = []\n",
    "for ipt in tqdm(inputs):\n",
    "    r = model.generate(**to_cuda(ipt, 1), \n",
    "                       do_sample = False, max_new_tokens = 300, \n",
    "                       eos_token_id = -1,\n",
    "                       pad_token_id = tk.eos_token_id)\n",
    "    all_outs.append(r[0])"
   ]
  },
  {
   "cell_type": "code",
   "execution_count": 110,
   "metadata": {},
   "outputs": [],
   "source": [
    "enc = tk(prompts, return_tensors = 'pt', padding = True)\n",
    "r_ba = model.generate(**to_cuda(enc, 1),\n",
    "                      do_sample = False, max_new_tokens = 300, \n",
    "                       eos_token_id = -1,\n",
    "                       pad_token_id = tk.eos_token_id)"
   ]
  },
  {
   "cell_type": "code",
   "execution_count": 93,
   "metadata": {},
   "outputs": [
    {
     "name": "stdout",
     "output_type": "stream",
     "text": [
      "[520, 520, 520, 520]\n"
     ]
    }
   ],
   "source": [
    "print([len(k) for k in r_ba])"
   ]
  },
  {
   "cell_type": "code",
   "execution_count": 87,
   "metadata": {},
   "outputs": [
    {
     "name": "stdout",
     "output_type": "stream",
     "text": [
      "<|end_of_text|><|end_of_text|><|begin_of_text|>The capital of France is Paris. It is located in the north of the country. The city is situated on the banks of the Seine River. Paris is the largest city in France. It is also the largest city in the European Union. The city has a population of over 2.2 million people. Paris is a major tourist destination. It is home to many famous landmarks, including the Eiffel Tower, the Louvre Museum, and the Notre Dame Cathedral. The city is also a major center of culture and the arts. Paris is home to many world-renowned museums, galleries, and theaters. The city is also a major center of fashion and design. Paris is a major center of business and finance. The city is home to many multinational corporations and financial institutions. Paris is a major transportation hub. The city is served by two international airports and a major railway station. Paris is a major center of education. The city is home to many universities and colleges. Paris is a major center of research and development. The city is home to many research institutes and laboratories. Paris is a major center of sports. The city is home to many professional sports teams. Paris is a major center of media. The city is home to many television and radio stations. Paris is a major center of entertainment. The city is home to many theaters, cinemas, and nightclubs. Paris is a major center of nightlife. The city is home to many bars and clubs. Paris is a major center of cuisine. The city is home to many restaurants and cafes. Paris is a major center of shopping. The city is home to many shopping malls and boutiques. Paris is a major center of tourism. The city is home to many hotels and hostels. Paris is a major center of history. The city is home to many historical landmarks and monuments. Paris is a major center of architecture. The city is home to many famous buildings and structures. Paris is a major center of culture. The city is home to many museums and galleries. Paris is a major center of fashion. The city is home to many fashion designers and boutiques. Paris is a major center of art. The city is home to many art galleries and museums. Paris is a major center of music. The city is home to many music venues and festivals. Paris is a major center of dance. The city is home to many dance schools and studios. Paris is a major center of theater. The city is home to many theaters and playhouses. Paris is a major center of film. The city is home to\n"
     ]
    }
   ],
   "source": [
    "print(tk.decode(r_ba[2]))"
   ]
  },
  {
   "cell_type": "code",
   "execution_count": 49,
   "metadata": {},
   "outputs": [
    {
     "data": {
      "text/plain": [
       "128001"
      ]
     },
     "execution_count": 49,
     "metadata": {},
     "output_type": "execute_result"
    }
   ],
   "source": [
    "tk.eos_token_id"
   ]
  },
  {
   "cell_type": "code",
   "execution_count": 97,
   "metadata": {},
   "outputs": [
    {
     "data": {
      "text/plain": [
       "tensor([0, 0, 1, 1, 1, 1, 1, 1])"
      ]
     },
     "execution_count": 97,
     "metadata": {},
     "output_type": "execute_result"
    }
   ],
   "source": [
    "enc.attention_mask[2]"
   ]
  },
  {
   "cell_type": "code",
   "execution_count": 99,
   "metadata": {},
   "outputs": [
    {
     "name": "stdout",
     "output_type": "stream",
     "text": [
      "512 512\n"
     ]
    }
   ],
   "source": [
    "a = r_ba[2][8:]\n",
    "b = outputs[2].outputs[0].token_ids\n",
    "print(len(a), len(b))"
   ]
  },
  {
   "cell_type": "code",
   "execution_count": 100,
   "metadata": {},
   "outputs": [
    {
     "name": "stdout",
     "output_type": "stream",
     "text": [
      " Paris. It is located in the north of the country. The city is situated on the banks of the Seine River. Paris is the largest city in France. It is also the largest city in the European Union. The city has a population of over 2.2 million people. Paris is a major tourist destination. It is home to many famous landmarks, including the Eiffel Tower, the Louvre Museum, and the Notre Dame Cathedral. The city is also a major center of culture and the arts. Paris is home to many world-renowned museums, galleries, and theaters. The city is also a major center of fashion and design. Paris is a major center of business and finance. The city is home to many multinational corporations and financial institutions. Paris is a major transportation hub. The city is served by two international airports and a major railway station. Paris is a major center of education. The city is home to many universities and colleges. Paris is a major center of research and development. The city is home to many research institutes and laboratories. Paris is a major center of sports. The city is home to many professional sports teams. Paris is a major center of media. The city is home to many television and radio stations. Paris is a major center of entertainment. The city is home to many theaters, cinemas, and nightclubs. Paris is a major center of nightlife. The city is home to many bars and clubs. Paris is a major center of cuisine. The city is home to many restaurants and cafes. Paris is a major center of shopping. The city is home to many shopping malls and boutiques. Paris is a major center of tourism. The city is home to many hotels and hostels. Paris is a major center of history. The city is home to many historical landmarks and monuments. Paris is a major center of architecture. The city is home to many famous buildings and structures. Paris is a major center of culture. The city is home to many museums and galleries. Paris is a major center of fashion. The city is home to many fashion designers and boutiques. Paris is a major center of art. The city is home to many art galleries and museums. Paris is a major center of music. The city is home to many music venues and festivals. Paris is a major center of dance. The city is home to many dance schools and studios. Paris is a major center of theater. The city is home to many theaters and playhouses. Paris is a major center of film. The city is home to\n"
     ]
    }
   ],
   "source": [
    "print(tk.decode(a))"
   ]
  },
  {
   "cell_type": "code",
   "execution_count": 101,
   "metadata": {},
   "outputs": [
    {
     "name": "stdout",
     "output_type": "stream",
     "text": [
      " Paris. It is located in the north of the country. The city is situated on the banks of the Seine River. Paris is the largest city in France. It is also the largest city in the European Union. The city has a population of over 2.2 million people. Paris is a major tourist destination. It is home to many famous landmarks, including the Eiffel Tower, the Louvre Museum, and the Notre Dame Cathedral. The city is also a major center of culture and the arts. Paris is home to many famous artists, writers, and musicians. The city is also a major center of business and finance. Paris is a major transportation hub. It is served by two international airports, Charles de Gaulle and Orly. The city is also served by a major railway station, Gare de Lyon. Paris is a major center of education. It is home to many universities and colleges. The city is also home to many research institutes and laboratories. Paris is a major center of science and technology. The city is home to many major companies, including Airbus, Renault, and Total. Paris is a major center of sports. The city is home to many major sports teams, including Paris Saint-Germain and Paris Saint-Germain Football Club. The city is also home to many major sporting events, including the Tour de France and the French Open. Paris is a major center of fashion. The city is home to many major fashion designers, including Chanel, Dior, and Louis Vuitton. Paris is a major center of cuisine. The city is home to many major restaurants, including Le Meurice and Le Bristol. Paris is a major center of nightlife. The city is home to many major nightclubs, including Le Queen and Le Baron. Paris is a major center of music. The city is home to many major music venues, including the Olympia and the Bataclan. Paris is a major center of theater. The city is home to many major theaters, including the Comedie-Francaise and the Odeon. Paris is a major center of art. The city is home to many major art galleries, including the Louvre and the Musee d'Orsay. Paris is a major center of history. The city is home to many major historical sites, including the Eiffel Tower and the Louvre. Paris is a major center of architecture. The city is home to many major architectural landmarks, including the Eiffel Tower and the Louvre. Paris is a major\n"
     ]
    }
   ],
   "source": [
    "print(tk.decode(b))"
   ]
  },
  {
   "cell_type": "code",
   "execution_count": null,
   "metadata": {},
   "outputs": [],
   "source": []
  }
 ],
 "metadata": {
  "kernelspec": {
   "display_name": "llm",
   "language": "python",
   "name": "python3"
  },
  "language_info": {
   "codemirror_mode": {
    "name": "ipython",
    "version": 3
   },
   "file_extension": ".py",
   "mimetype": "text/x-python",
   "name": "python",
   "nbconvert_exporter": "python",
   "pygments_lexer": "ipython3",
   "version": "3.9.16"
  }
 },
 "nbformat": 4,
 "nbformat_minor": 2
}
