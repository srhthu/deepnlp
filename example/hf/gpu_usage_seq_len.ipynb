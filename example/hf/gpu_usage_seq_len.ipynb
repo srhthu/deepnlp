{
 "cells": [
  {
   "cell_type": "markdown",
   "metadata": {},
   "source": [
    "# Introduction\n",
    "\n",
    "Explore the GPU memory usage under different input sequence length and gradient checkpointing."
   ]
  },
  {
   "cell_type": "code",
   "execution_count": 1,
   "metadata": {},
   "outputs": [],
   "source": [
    "from pathlib import Path\n",
    "import sys\n",
    "import os\n",
    "os.environ['CUDA_VISIBLE_DEVICES'] = '0,1,2,3'\n",
    "os.environ['HF_HUB_CACHE'] = '/next_share/hf_cache/hub'\n",
    "import json\n",
    "import numpy as np\n",
    "from datasets import Dataset\n",
    "from tqdm import tqdm\n",
    "import torch\n",
    "from torch.utils.data import DataLoader\n",
    "from transformers import (\n",
    "    AutoTokenizer, AutoModelForCausalLM, PreTrainedModel, AutoModelForSeq2SeqLM, \n",
    "    AutoModelForSequenceClassification, AutoConfig, AutoModel, BitsAndBytesConfig\n",
    ")\n",
    "from peft import get_peft_model, LoraConfig, get_peft_model_state_dict, AutoPeftModelForCausalLM\n",
    "from collections import defaultdict\n",
    "import inspect\n",
    "import time\n",
    "\n",
    "from pynvml import *\n",
    "import matplotlib.pyplot as plt"
   ]
  },
  {
   "cell_type": "code",
   "execution_count": 2,
   "metadata": {},
   "outputs": [],
   "source": [
    "AUTO_NAME_MAP = {'cls': AutoModelForSequenceClassification,\n",
    "                 'causal': AutoModelForCausalLM,\n",
    "                 'seq2seq': AutoModelForSeq2SeqLM}\n",
    "\n",
    "def build_model(model_name, \n",
    "                auto_cls = None, lora = False, dtype = torch.bfloat16, \n",
    "                device_map = None, quantization = False):\n",
    "    mod_cls = AUTO_NAME_MAP.get(auto_cls, AutoModelForCausalLM)\n",
    "    if device_map is None:\n",
    "        device_map = 0\n",
    "    if quantization:\n",
    "        quant_config = BitsAndBytesConfig(\n",
    "            load_in_4bit=True,\n",
    "            bnb_4bit_quant_type=\"nf4\",\n",
    "            bnb_4bit_use_double_quant=True,\n",
    "            bnb_4bit_compute_dtype=torch.bfloat16,\n",
    "        )\n",
    "    else:\n",
    "        quant_config = None\n",
    "    model = mod_cls.from_pretrained(model_name, \n",
    "                                    torch_dtype = dtype, device_map = device_map,\n",
    "                                    quantization_config = quant_config)\n",
    "    if lora:\n",
    "        peft_config = LoraConfig(\n",
    "            r = 16, lora_alpha = 16,\n",
    "            target_modules = 'all-linear',\n",
    "            lora_dropout= 0.1,\n",
    "            bias = \"none\"\n",
    "        )\n",
    "\n",
    "        model = get_peft_model(model, peft_config)\n",
    "        model.print_trainable_parameters()\n",
    "    return model\n",
    "\n",
    "class NVML_Mem:\n",
    "    \"\"\"Get GPU Memory Usage\"\"\"\n",
    "    def __init__(self, gpu_indexes = None):\n",
    "        if gpu_indexes is not None:\n",
    "            self.gpu_indexes = gpu_indexes\n",
    "        elif 'CUDA_VISIBLE_DEVICES' in os.environ:\n",
    "            self.gpu_indexes = [int(k) for k in os.environ['CUDA_VISIBLE_DEVICES'].split(',')]\n",
    "        else:\n",
    "            self.gpu_indexes = list(range(torch.cuda.device_count()))\n",
    "        nvmlInit()\n",
    "    \n",
    "    def __call__(self):\n",
    "        return [self.get_mem_by_id(k) for k in self.gpu_indexes]\n",
    "    \n",
    "    def get_mem_by_id(self, index):\n",
    "        h = nvmlDeviceGetHandleByIndex(index)\n",
    "        info = nvmlDeviceGetMemoryInfo(h)\n",
    "        return info.used / 1024**3\n",
    "\n",
    "def training_step(model, batch, optim):\n",
    "    model.train()\n",
    "    batch = {k:v.cuda() for k,v in batch.items()}\n",
    "    loss = model(**batch).loss\n",
    "    loss.backward()\n",
    "    optim.step()\n",
    "    optim.zero_grad()\n",
    "\n",
    "def get_dummy_inputs(seq_len = 512, batch_size = 1, is_cls = False):\n",
    "    input_ids = torch.randint(100, 3000, (batch_size, seq_len))\n",
    "    if is_cls:\n",
    "        labels = torch.randint(0, 1, (batch_size,))\n",
    "    else:\n",
    "        labels = input_ids\n",
    "    return {'input_ids': input_ids, 'labels': labels}\n",
    "\n",
    "def handle_grad_ckpt(model, gradient_checkpointing):\n",
    "    if gradient_checkpointing:\n",
    "        model.enable_input_require_grads()\n",
    "        model.gradient_checkpointing_enable()\n",
    "    else:\n",
    "        model.gradient_checkpointing_disable()\n",
    "\n",
    "def get_mem_usage_of_input_len(\n",
    "    model, per_step, num_steps, \n",
    "    gradient_checkpointing = False, \n",
    "    batch_size = 1,\n",
    "    is_cls = False\n",
    "):\n",
    "    \"\"\"Increase input_len by per_step and get memory usage.\"\"\"\n",
    "    torch.cuda.empty_cache()\n",
    "    # set gradient checkpointing\n",
    "    handle_grad_ckpt(model, gradient_checkpointing)\n",
    "    optim = torch.optim.AdamW(model.parameters(), lr = 0.01)\n",
    "    mem_usage_list = [NVML_Mem()()]\n",
    "    for i in range(1, num_steps + 1):\n",
    "        ipt_len = per_step * i\n",
    "        batch = get_dummy_inputs(ipt_len, batch_size, is_cls)\n",
    "        training_step(model, batch, optim)\n",
    "        mem_usage_list.append(NVML_Mem()())\n",
    "    return mem_usage_list\n",
    "\n",
    "def plot_mem_list(mem_list):\n",
    "    mems = np.array(mem_list)\n",
    "    x = np.arange(mems.shape[0])\n",
    "    for col in range(mems.shape[1]):\n",
    "        plt.plot(x, mems[:,col], color = f'C{col}', label = f'GPU {col}')\n",
    "    plt.xticks(x, x)\n",
    "    plt.legend()\n",
    "\n",
    "def get_training_time(model, input_len, steps = 10,gradient_checkpointing = False, \n",
    "                      batch_size = 1, is_cls = False):\n",
    "    torch.cuda.empty_cache()\n",
    "    # set gradient checkpointing\n",
    "    handle_grad_ckpt(model, gradient_checkpointing)\n",
    "    optim = torch.optim.AdamW(model.parameters(), lr = 0.01)\n",
    "\n",
    "    batch = get_dummy_inputs(input_len, batch_size, is_cls)\n",
    "    start = time.time()\n",
    "    for _ in tqdm(list(range(steps))):\n",
    "        training_step(model, batch, optim)\n",
    "    dur = time.time() - start\n",
    "    return dur"
   ]
  },
  {
   "cell_type": "code",
   "execution_count": 3,
   "metadata": {},
   "outputs": [],
   "source": [
    "# Customized device_map to equally distribute layers among 2 gpus\n",
    "devmap_7b2gpu = {'model.embed_tokens': 0,\n",
    "              'model.norm': 1,\n",
    "              'lm_head': 1}\n",
    "devmap_7b2gpu.update({f'model.layers.{i}': 0 if i < 16 else 1 for i in range(32)})"
   ]
  },
  {
   "cell_type": "code",
   "execution_count": 3,
   "metadata": {},
   "outputs": [
    {
     "data": {
      "application/vnd.jupyter.widget-view+json": {
       "model_id": "ea03efc5327940198d20c0674214bddc",
       "version_major": 2,
       "version_minor": 0
      },
      "text/plain": [
       "Loading checkpoint shards:   0%|          | 0/4 [00:00<?, ?it/s]"
      ]
     },
     "metadata": {},
     "output_type": "display_data"
    },
    {
     "name": "stdout",
     "output_type": "stream",
     "text": [
      "trainable params: 41,943,040 || all params: 8,072,204,288 || trainable%: 0.5195983464188562\n"
     ]
    }
   ],
   "source": [
    "# Build LLaMA3\n",
    "model = build_model('meta-llama/Meta-Llama-3-8B', auto_cls = 'causal',lora = True, device_map = devmap_7b2gpu)"
   ]
  },
  {
   "cell_type": "code",
   "execution_count": 3,
   "metadata": {},
   "outputs": [
    {
     "data": {
      "application/vnd.jupyter.widget-view+json": {
       "model_id": "621a3dc079144cc4ae60075af846e840",
       "version_major": 2,
       "version_minor": 0
      },
      "text/plain": [
       "Loading checkpoint shards:   0%|          | 0/2 [00:00<?, ?it/s]"
      ]
     },
     "metadata": {},
     "output_type": "display_data"
    },
    {
     "name": "stdout",
     "output_type": "stream",
     "text": [
      "trainable params: 41,943,040 || all params: 7,283,675,136 || trainable%: 0.5758499550960753\n"
     ]
    }
   ],
   "source": [
    "# model = build_model('mistralai/Mixtral-8x7B-v0.1', auto_cls = 'causal',lora = True, device_map = 'auto', quantization=False)\n",
    "model = build_model('mistralai/Mistral-7B-v0.1', auto_cls = 'causal',lora = True, device_map = 'auto', quantization=False)"
   ]
  },
  {
   "cell_type": "code",
   "execution_count": 4,
   "metadata": {},
   "outputs": [
    {
     "name": "stdout",
     "output_type": "stream",
     "text": [
      "self_attn.q_proj.base_layer.weight: torch.Size([4096, 4096]) cuda:0\n",
      "self_attn.q_proj.lora_A.default.weight: torch.Size([16, 4096]) cuda:0\n",
      "self_attn.q_proj.lora_B.default.weight: torch.Size([4096, 16]) cuda:0\n",
      "self_attn.k_proj.base_layer.weight: torch.Size([1024, 4096]) cuda:0\n",
      "self_attn.k_proj.lora_A.default.weight: torch.Size([16, 4096]) cuda:0\n",
      "self_attn.k_proj.lora_B.default.weight: torch.Size([1024, 16]) cuda:0\n",
      "self_attn.v_proj.base_layer.weight: torch.Size([1024, 4096]) cuda:0\n",
      "self_attn.v_proj.lora_A.default.weight: torch.Size([16, 4096]) cuda:0\n",
      "self_attn.v_proj.lora_B.default.weight: torch.Size([1024, 16]) cuda:0\n",
      "self_attn.o_proj.base_layer.weight: torch.Size([4096, 4096]) cuda:0\n",
      "self_attn.o_proj.lora_A.default.weight: torch.Size([16, 4096]) cuda:0\n",
      "self_attn.o_proj.lora_B.default.weight: torch.Size([4096, 16]) cuda:0\n",
      "mlp.gate_proj.base_layer.weight: torch.Size([14336, 4096]) cuda:0\n",
      "mlp.gate_proj.lora_A.default.weight: torch.Size([16, 4096]) cuda:0\n",
      "mlp.gate_proj.lora_B.default.weight: torch.Size([14336, 16]) cuda:0\n",
      "mlp.up_proj.base_layer.weight: torch.Size([14336, 4096]) cuda:0\n",
      "mlp.up_proj.lora_A.default.weight: torch.Size([16, 4096]) cuda:0\n",
      "mlp.up_proj.lora_B.default.weight: torch.Size([14336, 16]) cuda:0\n",
      "mlp.down_proj.base_layer.weight: torch.Size([4096, 14336]) cuda:0\n",
      "mlp.down_proj.lora_A.default.weight: torch.Size([16, 14336]) cuda:0\n",
      "mlp.down_proj.lora_B.default.weight: torch.Size([4096, 16]) cuda:0\n",
      "input_layernorm.weight: torch.Size([4096]) cuda:0\n",
      "post_attention_layernorm.weight: torch.Size([4096]) cuda:0\n"
     ]
    }
   ],
   "source": [
    "for name, p in model.base_model.model.model.layers[0].named_parameters():\n",
    "    print(f'{name}: {p.shape} {p.device}')"
   ]
  },
  {
   "cell_type": "code",
   "execution_count": 6,
   "metadata": {},
   "outputs": [
    {
     "name": "stdout",
     "output_type": "stream",
     "text": [
      "{'model.embed_tokens': 0, 'model.layers.0': 0, 'model.layers.1': 0, 'model.layers.2': 0, 'model.layers.3': 0, 'model.layers.4': 0, 'model.layers.5': 0, 'model.layers.6': 1, 'model.layers.7': 1, 'model.layers.8': 1, 'model.layers.9': 1, 'model.layers.10': 1, 'model.layers.11': 1, 'model.layers.12': 1, 'model.layers.13': 2, 'model.layers.14': 2, 'model.layers.15': 2, 'model.layers.16': 2, 'model.layers.17': 2, 'model.layers.18': 2, 'model.layers.19': 2, 'model.layers.20': 3, 'model.layers.21': 3, 'model.layers.22': 3, 'model.layers.23': 3, 'model.layers.24': 3, 'model.layers.25': 3, 'model.layers.26': 3, 'model.layers.27': 'cpu', 'model.layers.28': 'cpu', 'model.layers.29': 'cpu', 'model.layers.30': 'cpu', 'model.layers.31': 'cpu', 'model.norm': 'cpu', 'lm_head': 'cpu'}\n"
     ]
    }
   ],
   "source": [
    "print(model.hf_device_map)"
   ]
  },
  {
   "cell_type": "code",
   "execution_count": 7,
   "metadata": {},
   "outputs": [
    {
     "name": "stderr",
     "output_type": "stream",
     "text": [
      "`use_cache=True` is incompatible with gradient checkpointing. Setting `use_cache=False`...\n"
     ]
    },
    {
     "ename": "RuntimeError",
     "evalue": "Function MmBackward0 returned an invalid gradient at index 1 - expected device meta but got cuda:0",
     "output_type": "error",
     "traceback": [
      "\u001b[0;31m---------------------------------------------------------------------------\u001b[0m",
      "\u001b[0;31mRuntimeError\u001b[0m                              Traceback (most recent call last)",
      "\u001b[1;32m/storage/rhshui/workspace/deepnlp/example/hf/gpu_usage_seq_len.ipynb Cell 8\u001b[0m line \u001b[0;36m1\n\u001b[0;32m----> <a href='vscode-notebook-cell://ssh-remote%2Bnext-asus-3/storage/rhshui/workspace/deepnlp/example/hf/gpu_usage_seq_len.ipynb#X10sdnNjb2RlLXJlbW90ZQ%3D%3D?line=0'>1</a>\u001b[0m mem_list \u001b[39m=\u001b[39m get_mem_usage_of_input_len(model, \u001b[39m128\u001b[39;49m, \u001b[39m3\u001b[39;49m, gradient_checkpointing\u001b[39m=\u001b[39;49m\u001b[39mTrue\u001b[39;49;00m)\n",
      "\u001b[1;32m/storage/rhshui/workspace/deepnlp/example/hf/gpu_usage_seq_len.ipynb Cell 8\u001b[0m line \u001b[0;36m9\n\u001b[1;32m     <a href='vscode-notebook-cell://ssh-remote%2Bnext-asus-3/storage/rhshui/workspace/deepnlp/example/hf/gpu_usage_seq_len.ipynb#X10sdnNjb2RlLXJlbW90ZQ%3D%3D?line=89'>90</a>\u001b[0m     ipt_len \u001b[39m=\u001b[39m per_step \u001b[39m*\u001b[39m i\n\u001b[1;32m     <a href='vscode-notebook-cell://ssh-remote%2Bnext-asus-3/storage/rhshui/workspace/deepnlp/example/hf/gpu_usage_seq_len.ipynb#X10sdnNjb2RlLXJlbW90ZQ%3D%3D?line=90'>91</a>\u001b[0m     batch \u001b[39m=\u001b[39m get_dummy_inputs(ipt_len, batch_size, is_cls)\n\u001b[0;32m---> <a href='vscode-notebook-cell://ssh-remote%2Bnext-asus-3/storage/rhshui/workspace/deepnlp/example/hf/gpu_usage_seq_len.ipynb#X10sdnNjb2RlLXJlbW90ZQ%3D%3D?line=91'>92</a>\u001b[0m     training_step(model, batch, optim)\n\u001b[1;32m     <a href='vscode-notebook-cell://ssh-remote%2Bnext-asus-3/storage/rhshui/workspace/deepnlp/example/hf/gpu_usage_seq_len.ipynb#X10sdnNjb2RlLXJlbW90ZQ%3D%3D?line=92'>93</a>\u001b[0m     mem_usage_list\u001b[39m.\u001b[39mappend(NVML_Mem()())\n\u001b[1;32m     <a href='vscode-notebook-cell://ssh-remote%2Bnext-asus-3/storage/rhshui/workspace/deepnlp/example/hf/gpu_usage_seq_len.ipynb#X10sdnNjb2RlLXJlbW90ZQ%3D%3D?line=93'>94</a>\u001b[0m \u001b[39mreturn\u001b[39;00m mem_usage_list\n",
      "\u001b[1;32m/storage/rhshui/workspace/deepnlp/example/hf/gpu_usage_seq_len.ipynb Cell 8\u001b[0m line \u001b[0;36m5\n\u001b[1;32m     <a href='vscode-notebook-cell://ssh-remote%2Bnext-asus-3/storage/rhshui/workspace/deepnlp/example/hf/gpu_usage_seq_len.ipynb#X10sdnNjb2RlLXJlbW90ZQ%3D%3D?line=55'>56</a>\u001b[0m batch \u001b[39m=\u001b[39m {k:v\u001b[39m.\u001b[39mcuda() \u001b[39mfor\u001b[39;00m k,v \u001b[39min\u001b[39;00m batch\u001b[39m.\u001b[39mitems()}\n\u001b[1;32m     <a href='vscode-notebook-cell://ssh-remote%2Bnext-asus-3/storage/rhshui/workspace/deepnlp/example/hf/gpu_usage_seq_len.ipynb#X10sdnNjb2RlLXJlbW90ZQ%3D%3D?line=56'>57</a>\u001b[0m loss \u001b[39m=\u001b[39m model(\u001b[39m*\u001b[39m\u001b[39m*\u001b[39mbatch)\u001b[39m.\u001b[39mloss\n\u001b[0;32m---> <a href='vscode-notebook-cell://ssh-remote%2Bnext-asus-3/storage/rhshui/workspace/deepnlp/example/hf/gpu_usage_seq_len.ipynb#X10sdnNjb2RlLXJlbW90ZQ%3D%3D?line=57'>58</a>\u001b[0m loss\u001b[39m.\u001b[39;49mbackward()\n\u001b[1;32m     <a href='vscode-notebook-cell://ssh-remote%2Bnext-asus-3/storage/rhshui/workspace/deepnlp/example/hf/gpu_usage_seq_len.ipynb#X10sdnNjb2RlLXJlbW90ZQ%3D%3D?line=58'>59</a>\u001b[0m optim\u001b[39m.\u001b[39mstep()\n\u001b[1;32m     <a href='vscode-notebook-cell://ssh-remote%2Bnext-asus-3/storage/rhshui/workspace/deepnlp/example/hf/gpu_usage_seq_len.ipynb#X10sdnNjb2RlLXJlbW90ZQ%3D%3D?line=59'>60</a>\u001b[0m optim\u001b[39m.\u001b[39mzero_grad()\n",
      "File \u001b[0;32m/storage_fast/rhshui/lib/anaconda3/envs/llm/lib/python3.9/site-packages/torch/_tensor.py:487\u001b[0m, in \u001b[0;36mTensor.backward\u001b[0;34m(self, gradient, retain_graph, create_graph, inputs)\u001b[0m\n\u001b[1;32m    477\u001b[0m \u001b[39mif\u001b[39;00m has_torch_function_unary(\u001b[39mself\u001b[39m):\n\u001b[1;32m    478\u001b[0m     \u001b[39mreturn\u001b[39;00m handle_torch_function(\n\u001b[1;32m    479\u001b[0m         Tensor\u001b[39m.\u001b[39mbackward,\n\u001b[1;32m    480\u001b[0m         (\u001b[39mself\u001b[39m,),\n\u001b[0;32m   (...)\u001b[0m\n\u001b[1;32m    485\u001b[0m         inputs\u001b[39m=\u001b[39minputs,\n\u001b[1;32m    486\u001b[0m     )\n\u001b[0;32m--> 487\u001b[0m torch\u001b[39m.\u001b[39;49mautograd\u001b[39m.\u001b[39;49mbackward(\n\u001b[1;32m    488\u001b[0m     \u001b[39mself\u001b[39;49m, gradient, retain_graph, create_graph, inputs\u001b[39m=\u001b[39;49minputs\n\u001b[1;32m    489\u001b[0m )\n",
      "File \u001b[0;32m/storage_fast/rhshui/lib/anaconda3/envs/llm/lib/python3.9/site-packages/torch/autograd/__init__.py:200\u001b[0m, in \u001b[0;36mbackward\u001b[0;34m(tensors, grad_tensors, retain_graph, create_graph, grad_variables, inputs)\u001b[0m\n\u001b[1;32m    195\u001b[0m     retain_graph \u001b[39m=\u001b[39m create_graph\n\u001b[1;32m    197\u001b[0m \u001b[39m# The reason we repeat same the comment below is that\u001b[39;00m\n\u001b[1;32m    198\u001b[0m \u001b[39m# some Python versions print out the first line of a multi-line function\u001b[39;00m\n\u001b[1;32m    199\u001b[0m \u001b[39m# calls in the traceback and some print out the last line\u001b[39;00m\n\u001b[0;32m--> 200\u001b[0m Variable\u001b[39m.\u001b[39;49m_execution_engine\u001b[39m.\u001b[39;49mrun_backward(  \u001b[39m# Calls into the C++ engine to run the backward pass\u001b[39;49;00m\n\u001b[1;32m    201\u001b[0m     tensors, grad_tensors_, retain_graph, create_graph, inputs,\n\u001b[1;32m    202\u001b[0m     allow_unreachable\u001b[39m=\u001b[39;49m\u001b[39mTrue\u001b[39;49;00m, accumulate_grad\u001b[39m=\u001b[39;49m\u001b[39mTrue\u001b[39;49;00m)\n",
      "File \u001b[0;32m/storage_fast/rhshui/lib/anaconda3/envs/llm/lib/python3.9/site-packages/torch/autograd/function.py:274\u001b[0m, in \u001b[0;36mBackwardCFunction.apply\u001b[0;34m(self, *args)\u001b[0m\n\u001b[1;32m    270\u001b[0m     \u001b[39mraise\u001b[39;00m \u001b[39mRuntimeError\u001b[39;00m(\u001b[39m\"\u001b[39m\u001b[39mImplementing both \u001b[39m\u001b[39m'\u001b[39m\u001b[39mbackward\u001b[39m\u001b[39m'\u001b[39m\u001b[39m and \u001b[39m\u001b[39m'\u001b[39m\u001b[39mvjp\u001b[39m\u001b[39m'\u001b[39m\u001b[39m for a custom \u001b[39m\u001b[39m\"\u001b[39m\n\u001b[1;32m    271\u001b[0m                        \u001b[39m\"\u001b[39m\u001b[39mFunction is not allowed. You should only implement one \u001b[39m\u001b[39m\"\u001b[39m\n\u001b[1;32m    272\u001b[0m                        \u001b[39m\"\u001b[39m\u001b[39mof them.\u001b[39m\u001b[39m\"\u001b[39m)\n\u001b[1;32m    273\u001b[0m user_fn \u001b[39m=\u001b[39m vjp_fn \u001b[39mif\u001b[39;00m vjp_fn \u001b[39mis\u001b[39;00m \u001b[39mnot\u001b[39;00m Function\u001b[39m.\u001b[39mvjp \u001b[39melse\u001b[39;00m backward_fn\n\u001b[0;32m--> 274\u001b[0m \u001b[39mreturn\u001b[39;00m user_fn(\u001b[39mself\u001b[39;49m, \u001b[39m*\u001b[39;49margs)\n",
      "File \u001b[0;32m/storage_fast/rhshui/lib/anaconda3/envs/llm/lib/python3.9/site-packages/torch/utils/checkpoint.py:157\u001b[0m, in \u001b[0;36mCheckpointFunction.backward\u001b[0;34m(ctx, *args)\u001b[0m\n\u001b[1;32m    153\u001b[0m \u001b[39mif\u001b[39;00m \u001b[39mlen\u001b[39m(outputs_with_grad) \u001b[39m==\u001b[39m \u001b[39m0\u001b[39m:\n\u001b[1;32m    154\u001b[0m     \u001b[39mraise\u001b[39;00m \u001b[39mRuntimeError\u001b[39;00m(\n\u001b[1;32m    155\u001b[0m         \u001b[39m\"\u001b[39m\u001b[39mnone of output has requires_grad=True,\u001b[39m\u001b[39m\"\u001b[39m\n\u001b[1;32m    156\u001b[0m         \u001b[39m\"\u001b[39m\u001b[39m this checkpoint() is not necessary\u001b[39m\u001b[39m\"\u001b[39m)\n\u001b[0;32m--> 157\u001b[0m torch\u001b[39m.\u001b[39;49mautograd\u001b[39m.\u001b[39;49mbackward(outputs_with_grad, args_with_grad)\n\u001b[1;32m    158\u001b[0m grads \u001b[39m=\u001b[39m \u001b[39mtuple\u001b[39m(inp\u001b[39m.\u001b[39mgrad \u001b[39mif\u001b[39;00m \u001b[39misinstance\u001b[39m(inp, torch\u001b[39m.\u001b[39mTensor) \u001b[39melse\u001b[39;00m \u001b[39mNone\u001b[39;00m\n\u001b[1;32m    159\u001b[0m               \u001b[39mfor\u001b[39;00m inp \u001b[39min\u001b[39;00m detached_inputs)\n\u001b[1;32m    161\u001b[0m \u001b[39mreturn\u001b[39;00m (\u001b[39mNone\u001b[39;00m, \u001b[39mNone\u001b[39;00m) \u001b[39m+\u001b[39m grads\n",
      "File \u001b[0;32m/storage_fast/rhshui/lib/anaconda3/envs/llm/lib/python3.9/site-packages/torch/autograd/__init__.py:200\u001b[0m, in \u001b[0;36mbackward\u001b[0;34m(tensors, grad_tensors, retain_graph, create_graph, grad_variables, inputs)\u001b[0m\n\u001b[1;32m    195\u001b[0m     retain_graph \u001b[39m=\u001b[39m create_graph\n\u001b[1;32m    197\u001b[0m \u001b[39m# The reason we repeat same the comment below is that\u001b[39;00m\n\u001b[1;32m    198\u001b[0m \u001b[39m# some Python versions print out the first line of a multi-line function\u001b[39;00m\n\u001b[1;32m    199\u001b[0m \u001b[39m# calls in the traceback and some print out the last line\u001b[39;00m\n\u001b[0;32m--> 200\u001b[0m Variable\u001b[39m.\u001b[39;49m_execution_engine\u001b[39m.\u001b[39;49mrun_backward(  \u001b[39m# Calls into the C++ engine to run the backward pass\u001b[39;49;00m\n\u001b[1;32m    201\u001b[0m     tensors, grad_tensors_, retain_graph, create_graph, inputs,\n\u001b[1;32m    202\u001b[0m     allow_unreachable\u001b[39m=\u001b[39;49m\u001b[39mTrue\u001b[39;49;00m, accumulate_grad\u001b[39m=\u001b[39;49m\u001b[39mTrue\u001b[39;49;00m)\n",
      "\u001b[0;31mRuntimeError\u001b[0m: Function MmBackward0 returned an invalid gradient at index 1 - expected device meta but got cuda:0"
     ]
    }
   ],
   "source": [
    "mem_list = get_mem_usage_of_input_len(model, 128, 3, gradient_checkpointing=True)"
   ]
  },
  {
   "cell_type": "code",
   "execution_count": 12,
   "metadata": {},
   "outputs": [
    {
     "data": {
      "image/png": "[encoded data removed]",
      "text/plain": [
       "<Figure size 640x480 with 1 Axes>"
      ]
     },
     "metadata": {},
     "output_type": "display_data"
    }
   ],
   "source": [
    "plot_mem_list(mem_list)"
   ]
  },
  {
   "cell_type": "code",
   "execution_count": 13,
   "metadata": {},
   "outputs": [
    {
     "name": "stderr",
     "output_type": "stream",
     "text": [
      "100%|██████████| 10/10 [00:31<00:00,  3.12s/it]\n"
     ]
    },
    {
     "data": {
      "text/plain": [
       "31.221932411193848"
      ]
     },
     "execution_count": 13,
     "metadata": {},
     "output_type": "execute_result"
    }
   ],
   "source": [
    "get_training_time(model, input_len = 1200, steps = 10, gradient_checkpointing=True)"
   ]
  },
  {
   "cell_type": "code",
   "execution_count": 11,
   "metadata": {},
   "outputs": [
    {
     "name": "stderr",
     "output_type": "stream",
     "text": [
      "  0%|          | 0/10 [00:00<?, ?it/s]"
     ]
    },
    {
     "name": "stderr",
     "output_type": "stream",
     "text": [
      "100%|██████████| 10/10 [00:11<00:00,  1.17s/it]\n"
     ]
    },
    {
     "data": {
      "text/plain": [
       "11.660600662231445"
      ]
     },
     "execution_count": 11,
     "metadata": {},
     "output_type": "execute_result"
    }
   ],
   "source": [
    "get_training_time(model, input_len = 512, steps = 10, gradient_checkpointing=False)"
   ]
  },
  {
   "cell_type": "code",
   "execution_count": 14,
   "metadata": {},
   "outputs": [
    {
     "data": {
      "text/plain": [
       "[15.0128173828125, 18.1729736328125]"
      ]
     },
     "execution_count": 14,
     "metadata": {},
     "output_type": "execute_result"
    }
   ],
   "source": [
    "NVML_Mem()()"
   ]
  },
  {
   "cell_type": "code",
   "execution_count": null,
   "metadata": {},
   "outputs": [],
   "source": []
  }
 ],
 "metadata": {
  "kernelspec": {
   "display_name": "llm",
   "language": "python",
   "name": "python3"
  },
  "language_info": {
   "codemirror_mode": {
    "name": "ipython",
    "version": 3
   },
   "file_extension": ".py",
   "mimetype": "text/x-python",
   "name": "python",
   "nbconvert_exporter": "python",
   "pygments_lexer": "ipython3",
   "version": "3.9.16"
  }
 },
 "nbformat": 4,
 "nbformat_minor": 2
}
